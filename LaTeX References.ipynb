{
 "cells": [
  {
   "cell_type": "markdown",
   "metadata": {},
   "source": [
    "# Problem 1"
   ]
  },
  {
   "cell_type": "markdown",
   "metadata": {},
   "source": [
    "The problem is asking for the percent of dishes that have cells \"less than\", \"greater than\", or \"between\" certain values.  These questions can be answered using the cdf, $F(x,\\lambda)$,  of the Poisson distribution.  The course lectures provided the pmf, $f(x,\\lambda)$:\n",
    "\n",
    "$$P(X = k) = \\frac{\\lambda ^k}{k!}\\cdot e^{-\\lambda}$$\n",
    "\n",
    "Since the Poisson distribution is discrete, the probability of realizing \"less than\" x realizations for a given $\\lambda$ is:\n",
    "\n",
    "$$F(X) = \\sum_{k=0}^{X} \\frac{\\lambda ^k}{k!}\\cdot e^{-\\lambda}$$\n",
    "\n"
   ]
  },
  {
   "cell_type": "markdown",
   "metadata": {},
   "source": [
    "## Part a"
   ]
  },
  {
   "cell_type": "markdown",
   "metadata": {},
   "source": [
    "The first question asks the probability of 0 clusters, which is simply $F(X = 0)$:\n",
    "\n",
    "$$F(0) = \\sum_{k=0}^{0} \\frac{\\lambda ^k}{k!}\\cdot e^{-\\lambda} \\\\\n",
    "F(0) = e^{-\\lambda} \\\\\n",
    "F(0) = e^{-5} \\\\\n",
    "F(0) = 0.0067$$\n",
    "\n",
    "***The answer is 0.0067***"
   ]
  },
  {
   "cell_type": "code",
   "execution_count": 2,
   "metadata": {},
   "outputs": [
    {
     "data": {
      "text/plain": [
       "0.006737946999085467"
      ]
     },
     "execution_count": 2,
     "metadata": {},
     "output_type": "execute_result"
    }
   ],
   "source": [
    "#Calculation for Problem 1 Part a\n",
    "import numpy as np\n",
    "np.exp(-5)"
   ]
  },
  {
   "cell_type": "markdown",
   "metadata": {},
   "source": [
    "## Part b"
   ]
  },
  {
   "cell_type": "markdown",
   "metadata": {},
   "source": [
    "The next question asks for the probability of at least 1 cluster.  This is the probability of all realizations other than $F(X = 0)$:\n",
    "\n",
    "$$F(X \\geq 1) = 1 - F(0) \\\\\n",
    "F(X \\geq 1) = 1 - e^{-5} \\\\\n",
    "F(X \\geq 1) = 0.9933 $$\n",
    "\n",
    "***The answer is 0.9933***"
   ]
  },
  {
   "cell_type": "code",
   "execution_count": 3,
   "metadata": {},
   "outputs": [
    {
     "data": {
      "text/plain": [
       "0.9932620530009145"
      ]
     },
     "execution_count": 3,
     "metadata": {},
     "output_type": "execute_result"
    }
   ],
   "source": [
    "# Calculation for Problem 1 Part b\n",
    "1 - np.exp(-5)"
   ]
  },
  {
   "cell_type": "markdown",
   "metadata": {},
   "source": [
    "## Part c"
   ]
  },
  {
   "cell_type": "markdown",
   "metadata": {},
   "source": [
    "Similar to part b, this question asks for the probability that  X is more than 8 which is $1 - F(X = 8)$:\n",
    "\n",
    "$$F(X \\geq 8) = 1 - F(8)$$\n",
    "\n",
    "To calculate F(8), a \"for loop\" is used in Python to iterate through the summation of the pmf values at each realization of X up to 8."
   ]
  },
  {
   "cell_type": "code",
   "execution_count": 3,
   "metadata": {},
   "outputs": [
    {
     "name": "stdout",
     "output_type": "stream",
     "text": [
      "0.9319063652781515\n",
      "0.06809363472184848\n"
     ]
    }
   ],
   "source": [
    "# Function and calculations for Problem 1 Part c\n",
    "def poisson_cdf(rate, x):\n",
    "    #set the initial total to F(0)\n",
    "    total = np.exp(-1*rate)\n",
    "    if x > 0:\n",
    "        for i in range(1,(x+1)):\n",
    "            kfac = 1\n",
    "            for j in range(1,i+1):\n",
    "                kfac = kfac * j\n",
    "            subtotal =  ((rate**i)/kfac)*(np.exp(-1*rate))\n",
    "            total = total + subtotal\n",
    "    return total\n",
    "\n",
    "F_8 = poisson_cdf(5,8)\n",
    "print(F_8)\n",
    "print(1 - F_8)"
   ]
  },
  {
   "cell_type": "markdown",
   "metadata": {},
   "source": [
    "$$F(X \\geq 8) = 1 - 0.9319 \\\\\n",
    "F(X \\geq 8) = 0.0681$$\n",
    "\n",
    "***The answer is 0.0681***"
   ]
  },
  {
   "cell_type": "markdown",
   "metadata": {},
   "source": [
    "## Part d"
   ]
  },
  {
   "cell_type": "markdown",
   "metadata": {},
   "source": [
    "The probability that the cells are between two values (4 and 6) can be expressed as:\n",
    "\n",
    "$$ F(X \\geq 4 \\& X\\leq 6) = F(6) - F(3) \\\\\n",
    "F(X \\geq 4 \\& X\\leq 6) = 0.7622 - 0.2650 \\\\\n",
    "F(X \\geq 4 \\& X\\leq 6) = 0.4972$$\n",
    "\n",
    "***The answer is 0.4972***"
   ]
  },
  {
   "cell_type": "code",
   "execution_count": 5,
   "metadata": {},
   "outputs": [
    {
     "name": "stdout",
     "output_type": "stream",
     "text": [
      "0.2650259152973617\n",
      "0.7621834629729387\n",
      "0.497157547675577\n"
     ]
    }
   ],
   "source": [
    "# calculations for Problem 1 Part d\n",
    "F_3 = poisson_cdf(5,3)\n",
    "print(F_3)\n",
    "\n",
    "F_6 = poisson_cdf(5,6)\n",
    "print(F_6)\n",
    "\n",
    "print(F_6 - F_3)"
   ]
  },
  {
   "cell_type": "markdown",
   "metadata": {},
   "source": [
    "# Problem 2\n",
    "\n",
    "## Part a"
   ]
  },
  {
   "cell_type": "markdown",
   "metadata": {},
   "source": [
    "The probability that a run lasts a certain amount of time can be calculated using the cdf for the Exponential distribution.  This was given in the lecture notes as:\n",
    "\n",
    "$$F(t) = 1 - e^{-\\lambda t}, t > 0$$\n",
    "\n",
    "The probability that a run lasts at least 10 hours can also be thought of as \"the probability it does not fail within the first 10 hours\" and can be expressed as:\n",
    "\n",
    "$$p(t\\geq10) = 1 - F(10) \\\\\n",
    "p(t\\geq10) = 1 - (1 - e^{-\\lambda t}) \\\\\n",
    "p(t\\geq10) = 1 - (1 - e^{\\frac{1}{10}\\cdot-10}) \n",
    "p(t\\geq10) = e^{-1} \\\\\n",
    "p(t\\geq10) = 0.3679$$\n",
    "\n",
    "***The answer is 0.3679***"
   ]
  },
  {
   "cell_type": "code",
   "execution_count": 6,
   "metadata": {},
   "outputs": [
    {
     "data": {
      "text/plain": [
       "0.36787944117144233"
      ]
     },
     "execution_count": 6,
     "metadata": {},
     "output_type": "execute_result"
    }
   ],
   "source": [
    "# Calculation for Problem 2 Part a\n",
    "np.exp(-1)"
   ]
  },
  {
   "cell_type": "markdown",
   "metadata": {},
   "source": [
    "## Part b"
   ]
  },
  {
   "cell_type": "markdown",
   "metadata": {},
   "source": [
    "The probability the run lasts less than 15 hours is given by:\n",
    "$$p(t\\leq15) = F(15) \\\\\n",
    "p(t\\leq15) = 1 - e^{-\\lambda t} \\\\\n",
    "p(t\\leq15) = 1 - e^{\\frac{1}{10}\\cdot-15} \\\\\n",
    "p(t\\leq15) = 1 - e^{-1.5} \\\\\n",
    "p(t\\leq15) = 0.7769 $$\n",
    "\n",
    "***The answer is 0.7769***"
   ]
  },
  {
   "cell_type": "code",
   "execution_count": 8,
   "metadata": {},
   "outputs": [
    {
     "data": {
      "text/plain": [
       "0.7768698398515702"
      ]
     },
     "execution_count": 8,
     "metadata": {},
     "output_type": "execute_result"
    }
   ],
   "source": [
    "# Calculation for Problem 2 Part b\n",
    "1 - np.exp(-1.5)"
   ]
  },
  {
   "cell_type": "markdown",
   "metadata": {},
   "source": [
    "## Part c"
   ]
  },
  {
   "cell_type": "markdown",
   "metadata": {},
   "source": [
    "Given that the Exponential distribution is memoryless, the time variable only needs to be expressed with respect to the current state.  As a result, the probability that the run continues for 20 hours (10 more hours beyond the original 10 hours) is the same as the probability that it continues at least 10 hours.  This was determined in Part a:\n",
    "\n",
    "$$p(t\\geq20\\mid t=10) = p(t\\geq10) \\\\\n",
    "p(t\\geq10) = 1 - F(10) \\\\\n",
    "p(t\\geq10) = 1 - (1 - e^{-\\lambda t}) \\\\\n",
    "p(t\\geq10) = 1 - (1 - e^{\\frac{1}{10}\\cdot-10}) \n",
    "p(t\\geq10) = e^{-1} \\\\\n",
    "p(t\\geq10) = 0.3679$$\n",
    "\n",
    "***The answer is 0.3679***"
   ]
  },
  {
   "cell_type": "markdown",
   "metadata": {},
   "source": [
    "# Problem 3\n",
    "## Part a"
   ]
  },
  {
   "cell_type": "markdown",
   "metadata": {},
   "source": [
    "$$f_x(x) = \\int_{x}^{\\infty} f(x,y)\\cdot dy \\\\\n",
    "f_x(x) = \\int_{x}^{\\infty} \\lambda^2\\cdot e^{-\\lambda y}\\cdot dy \\\\\n",
    "f_x(x) = \\lambda^2\\cdot \\int_{x}^{\\infty} e^{-\\lambda y}\\cdot dy \\\\\n",
    "f_x(x) = \\lambda^2\\cdot \\frac{-1}{\\lambda}\\cdot e^{-\\lambda y} \\mid_{x}^{\\infty} \\\\\n",
    "f_x(x) = -\\lambda\\cdot (e^{-\\lambda \\cdot \\infty} - e^{-\\lambda \\cdot x})$$\n",
    "\n",
    "The $e^{-\\lambda \\cdot \\infty}$ term goes to zero so the equation reduces to...\n",
    "\n",
    "$$f_x(x) = \\lambda\\cdot e^{-\\lambda \\cdot x} $$\n",
    "\n",
    "The above form is the pdf of the Exponential Distribution $E(\\lambda)$."
   ]
  },
  {
   "cell_type": "markdown",
   "metadata": {},
   "source": [
    "## Part b"
   ]
  },
  {
   "cell_type": "markdown",
   "metadata": {},
   "source": [
    "$$f_y(y) = \\int_{0}^{y} f(x,y)\\cdot dx \\\\\n",
    "f_y(y) = \\int_{0}^{y} \\lambda^2\\cdot e^{-\\lambda y}\\cdot dx $$\n",
    "\n",
    "Since this is an integral with respect to x, but there aren't any x variables, this is like integrating a constant.\n",
    "\n",
    "$$f_y(y) = x\\cdot \\lambda^2 \\cdot e^{-\\lambda\\cdot y} \\mid_{0}^{y} \\\\\n",
    "f_y(y) = \\lambda^2\\cdot e^{-\\lambda \\cdot y} \\cdot (y - 0) \\\\\n",
    "f_y(y) = \\lambda^2\\cdot y \\cdot e^{-\\lambda \\cdot y} $$\n",
    "\n",
    "To bring this closer to the $Gamma(2,\\lambda)$ form, I will make two adjustments.  The first is to divide by $\\Gamma(2)$ which is the same as dividing by 1 since $\\Gamma(2) = (2-1)!$:\n",
    "\n",
    "$$f_y(y) = \\frac{\\lambda^2\\cdot y \\cdot e^{-\\lambda \\cdot y}}{\\Gamma(2)} $$\n",
    "\n",
    "The second adjustment is to express $y$ as $y^{2-1}$:\n",
    "\n",
    "$$f_y(y) = \\frac{\\lambda^2\\cdot y^{2-1} \\cdot e^{-\\lambda \\cdot y}}{\\Gamma(2)} $$\n",
    "\n",
    "The above form is the pdf of the $Gamma(2,\\lambda)$ distribution."
   ]
  },
  {
   "cell_type": "markdown",
   "metadata": {},
   "source": [
    "## Part c"
   ]
  },
  {
   "cell_type": "markdown",
   "metadata": {},
   "source": [
    "The conditional distribution was presented in the lecture materials as:\n",
    "\n",
    "$$f(x_1 \\mid x_2) = \\frac{f(x_1,x_2)}{f(x_2)} $$\n",
    "\n",
    "Similarly,\n",
    "\n",
    "$$f(y \\mid x) = \\frac{f(x,y)}{f_x(x)}$$\n",
    "\n",
    "From part a, it is know that $f_x(x) = \\lambda \\cdot e^{-\\lambda\\cdot x}$:\n",
    "\n",
    "$$f(y \\mid x) = \\frac{\\lambda^2 \\cdot e^{-\\lambda\\cdot y}}{\\lambda \\cdot e^{-\\lambda\\cdot x}} \\\\\n",
    "f(y \\mid x) = \\lambda\\cdot e^{-\\lambda\\cdot(y-x)}$$"
   ]
  },
  {
   "cell_type": "markdown",
   "metadata": {},
   "source": [
    "## Part d"
   ]
  },
  {
   "cell_type": "markdown",
   "metadata": {},
   "source": [
    "$$f(x \\mid y) = \\frac{f(x,y)}{f_y(y)}$$\n",
    "\n",
    "From part b, it is know that $f_y(y) = \\lambda^2 \\cdot y \\cdot e^{-\\lambda\\cdot y}$:\n",
    "\n",
    "$$f(x \\mid y) = \\frac{\\lambda^2 \\cdot e^{-\\lambda\\cdot y}}{\\lambda^2 \\cdot y \\cdot e^{-\\lambda\\cdot y}} \\\\\n",
    "f(x \\mid y) = \\frac{1}{y} \\\\\n",
    "f(x \\mid y) = \\frac{1}{y - 0}$$\n",
    "\n",
    "The above form is the pdf of the $U(0,y)$ distribution."
   ]
  },
  {
   "cell_type": "markdown",
   "metadata": {},
   "source": [
    "# Problem 4\n",
    "## Part a"
   ]
  },
  {
   "cell_type": "code",
   "execution_count": null,
   "metadata": {},
   "outputs": [],
   "source": []
  }
 ],
 "metadata": {
  "kernelspec": {
   "display_name": "Python 3",
   "language": "python",
   "name": "python3"
  },
  "language_info": {
   "codemirror_mode": {
    "name": "ipython",
    "version": 3
   },
   "file_extension": ".py",
   "mimetype": "text/x-python",
   "name": "python",
   "nbconvert_exporter": "python",
   "pygments_lexer": "ipython3",
   "version": "3.7.4"
  }
 },
 "nbformat": 4,
 "nbformat_minor": 2
}
